{
 "cells": [
  {
   "cell_type": "markdown",
   "metadata": {},
   "source": [
    "## Loops & Iteration"
   ]
  },
  {
   "cell_type": "markdown",
   "metadata": {},
   "source": [
    "### Loops"
   ]
  },
  {
   "cell_type": "markdown",
   "metadata": {},
   "source": [
    "#### Check whether a number is even or odd"
   ]
  },
  {
   "cell_type": "code",
   "execution_count": null,
   "metadata": {},
   "outputs": [],
   "source": [
    "x = 101\n",
    "\n",
    "if x % 2 == 0:\n",
    "    print(x, \"is an Even number\")\n",
    "else:\n",
    "    print(x, \"is an Odd number\")"
   ]
  },
  {
   "cell_type": "code",
   "execution_count": null,
   "metadata": {},
   "outputs": [],
   "source": [
    "x = int(input(\"Enter your age: \"))\n",
    "\n",
    "if x % 2 == 0:\n",
    "    print(x, \"is an Even number\")\n",
    "else:\n",
    "    print(x, \"is an Odd number\")"
   ]
  },
  {
   "cell_type": "markdown",
   "metadata": {},
   "source": [
    "#### < 18 & > 50 are not allowed for the party. --> 18 or above and 50 and below are allowed for the party."
   ]
  },
  {
   "cell_type": "code",
   "execution_count": null,
   "metadata": {},
   "outputs": [],
   "source": [
    "x = int(input(\"Enter your age: \"))\n",
    "\n",
    "if x < 18 or x > 50:\n",
    "    print(\"Sorry!! You are not allowed for the party\")\n",
    "else:\n",
    "    print(\"Welcome to the party\")"
   ]
  },
  {
   "cell_type": "markdown",
   "metadata": {},
   "source": [
    "#### Program which offers various discounts on purchase bills"
   ]
  },
  {
   "cell_type": "code",
   "execution_count": null,
   "metadata": {},
   "outputs": [],
   "source": [
    "shop_total = int(input(\"Input your billed amount: \"))\n",
    "\n",
    "if shop_total >=5000:\n",
    "    print(\"You have won a voucher of Rs. 1000/-\")\n",
    "elif shop_total >=2500:\n",
    "    print(\"You have won a voucher of Rs. 500/-\")\n",
    "else:\n",
    "    print(\"OOPS!! No discount for you!!\")"
   ]
  },
  {
   "cell_type": "markdown",
   "metadata": {},
   "source": [
    "### Iteration"
   ]
  },
  {
   "cell_type": "markdown",
   "metadata": {},
   "source": [
    "for i in list1:\n"
   ]
  },
  {
   "cell_type": "code",
   "execution_count": 2,
   "metadata": {},
   "outputs": [
    {
     "name": "stdout",
     "output_type": "stream",
     "text": [
      "12\n",
      "22\n",
      "32\n",
      "42\n",
      "52\n"
     ]
    }
   ],
   "source": [
    "#Iterate over a list of integers\n",
    "\n",
    "list_1 = [10,20,30,40,50]\n",
    "for num in list_1:\n",
    "    print(num + 2)"
   ]
  },
  {
   "cell_type": "code",
   "execution_count": 3,
   "metadata": {},
   "outputs": [
    {
     "name": "stdout",
     "output_type": "stream",
     "text": [
      "I\n",
      "n\n",
      "d\n",
      "i\n",
      "a\n"
     ]
    }
   ],
   "source": [
    "#Iterate over a String\n",
    "\n",
    "str_1 = \"India\"\n",
    "for ch in str_1:\n",
    "    print(ch)"
   ]
  },
  {
   "cell_type": "code",
   "execution_count": 8,
   "metadata": {},
   "outputs": [
    {
     "name": "stdout",
     "output_type": "stream",
     "text": [
      "1 has value ['Sam', 25]\n",
      "2 has value ['Sharma', 28]\n",
      "3 has value ['Ravi', 22]\n",
      "4 has value ['Sid', 23]\n",
      "5 has value ['Varun', 24]\n"
     ]
    }
   ],
   "source": [
    "#Iterate over a dictionary\n",
    "\n",
    "students_data = {1: ['Sam', 25], 2:['Sharma',28], 3:['Ravi',22], 4:['Sid',23], 5:['Varun',24]}\n",
    "\n",
    "for key,val in students_data.items():\n",
    "    \n",
    "    print(key,'has value', val)"
   ]
  },
  {
   "cell_type": "code",
   "execution_count": 5,
   "metadata": {},
   "outputs": [
    {
     "name": "stdout",
     "output_type": "stream",
     "text": [
      "1\n",
      "2\n",
      "3\n",
      "4\n",
      "5\n",
      "['Sam', 25]\n",
      "['Sharma', 28]\n",
      "['Ravi', 22]\n",
      "['Sid', 23]\n",
      "['Varun', 24]\n"
     ]
    }
   ],
   "source": [
    "for key in students_data.keys():\n",
    "    print(key)\n",
    "for val in students_data.values():\n",
    "    print(val)"
   ]
  },
  {
   "cell_type": "code",
   "execution_count": 9,
   "metadata": {},
   "outputs": [
    {
     "data": {
      "text/plain": [
       "range(1, 101)"
      ]
     },
     "execution_count": 9,
     "metadata": {},
     "output_type": "execute_result"
    }
   ],
   "source": [
    "range(1,101)"
   ]
  },
  {
   "cell_type": "code",
   "execution_count": 11,
   "metadata": {},
   "outputs": [
    {
     "name": "stdout",
     "output_type": "stream",
     "text": [
      "1\n",
      "2\n",
      "3\n",
      "4\n",
      "5\n"
     ]
    }
   ],
   "source": [
    "#Iterate over a range of values\n",
    "\n",
    "for i in range(1,6):\n",
    "    print(i)"
   ]
  },
  {
   "cell_type": "code",
   "execution_count": 12,
   "metadata": {},
   "outputs": [
    {
     "name": "stdout",
     "output_type": "stream",
     "text": [
      "1 Is odd\n",
      "2 is even\n",
      "3 Is odd\n",
      "4 is even\n",
      "5 Is odd\n",
      "6 is even\n",
      "7 Is odd\n",
      "8 is even\n",
      "9 Is odd\n",
      "10 is even\n",
      "11 Is odd\n",
      "12 is even\n",
      "13 Is odd\n",
      "14 is even\n",
      "15 Is odd\n",
      "16 is even\n",
      "17 Is odd\n",
      "18 is even\n",
      "19 Is odd\n",
      "20 is even\n"
     ]
    }
   ],
   "source": [
    "for i in range(1,21):\n",
    "    if i%2==0:\n",
    "        print(i, 'is even')\n",
    "    else:\n",
    "        print(i, 'Is odd')"
   ]
  },
  {
   "cell_type": "code",
   "execution_count": null,
   "metadata": {},
   "outputs": [],
   "source": []
  },
  {
   "cell_type": "code",
   "execution_count": 14,
   "metadata": {},
   "outputs": [
    {
     "ename": "SyntaxError",
     "evalue": "invalid syntax (2117148874.py, line 1)",
     "output_type": "error",
     "traceback": [
      "\u001b[1;36m  File \u001b[1;32m\"C:\\Users\\kalas\\AppData\\Local\\Temp\\ipykernel_24960\\2117148874.py\"\u001b[1;36m, line \u001b[1;32m1\u001b[0m\n\u001b[1;33m    [ i,'is even' if i%2==0 else 'odd' for i in range(1,21)]\u001b[0m\n\u001b[1;37m                                         ^\u001b[0m\n\u001b[1;31mSyntaxError\u001b[0m\u001b[1;31m:\u001b[0m invalid syntax\n"
     ]
    }
   ],
   "source": [
    "['' even' if i%2==0 else 'odd' for i in range(1,21)]"
   ]
  },
  {
   "cell_type": "code",
   "execution_count": null,
   "metadata": {},
   "outputs": [],
   "source": []
  },
  {
   "cell_type": "code",
   "execution_count": null,
   "metadata": {},
   "outputs": [],
   "source": []
  },
  {
   "cell_type": "markdown",
   "metadata": {},
   "source": [
    "### Comprehensions"
   ]
  },
  {
   "cell_type": "code",
   "execution_count": null,
   "metadata": {},
   "outputs": [],
   "source": [
    "list_1 = [\"Automobiles\", \"Honda\", \"Benz\", \"Maruti\", \"Kia\"]\n",
    "\n",
    "list_2 = []\n",
    "\n",
    "for i in list_1:\n",
    "    list_2.append(i)\n",
    "    \n",
    "print(list_2)"
   ]
  },
  {
   "cell_type": "code",
   "execution_count": null,
   "metadata": {
    "scrolled": true
   },
   "outputs": [],
   "source": [
    "list_1 = [\"Automobiles\", \"Honda\", \"Benz\", \"Maruti\", \"Kia\"]\n",
    "\n",
    "list_2 = []\n",
    "\n",
    "for i in list_1:\n",
    "    list_2.append(len(i))\n",
    "    \n",
    "print(list_2)"
   ]
  },
  {
   "cell_type": "code",
   "execution_count": 15,
   "metadata": {},
   "outputs": [
    {
     "name": "stdout",
     "output_type": "stream",
     "text": [
      "[11, 5, 4, 6, 3]\n"
     ]
    }
   ],
   "source": [
    "list_1 = [\"Automobiles\", \"Honda\", \"Benz\", \"Maruti\", \"Kia\"]\n",
    "\n",
    "list_2 = [len(i) for i in list_1]\n",
    "    \n",
    "print(list_2)"
   ]
  },
  {
   "cell_type": "code",
   "execution_count": 16,
   "metadata": {},
   "outputs": [
    {
     "data": {
      "text/plain": [
       "{'Automobiles': 11, 'Honda': 5, 'Benz': 4, 'Maruti': 6, 'Kia': 3}"
      ]
     },
     "execution_count": 16,
     "metadata": {},
     "output_type": "execute_result"
    }
   ],
   "source": [
    "list_1 = [\"Automobiles\", \"Honda\", \"Benz\", \"Maruti\", \"Kia\"]\n",
    "\n",
    "d = {i: len(i) for i in list_1}\n",
    "\n",
    "d"
   ]
  },
  {
   "cell_type": "code",
   "execution_count": null,
   "metadata": {},
   "outputs": [],
   "source": []
  }
 ],
 "metadata": {
  "interpreter": {
   "hash": "e3d323e23e7eb1e0bb8bafb9bb74668ce60d9c6801ebc6b61b5fbb0ea7925c05"
  },
  "kernelspec": {
   "display_name": "Python 3.7.13 ('py')",
   "language": "python",
   "name": "python3"
  },
  "language_info": {
   "codemirror_mode": {
    "name": "ipython",
    "version": 3
   },
   "file_extension": ".py",
   "mimetype": "text/x-python",
   "name": "python",
   "nbconvert_exporter": "python",
   "pygments_lexer": "ipython3",
   "version": "3.7.13"
  }
 },
 "nbformat": 4,
 "nbformat_minor": 2
}
